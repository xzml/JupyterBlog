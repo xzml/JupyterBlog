{
 "cells": [
  {
   "cell_type": "markdown",
   "metadata": {},
   "source": [
    "# 使用 im2col 实现卷积\n",
    "\n",
    "2019 年 5 月 16 日\n",
    "\n",
    "参考资料: [numpy实现卷积转换成矩阵乘法算法](https://zhuanlan.zhihu.com/p/63974249?utm_source=wechat_session&utm_medium=social&utm_oi=32625469161472)"
   ]
  },
  {
   "cell_type": "code",
   "execution_count": 3,
   "metadata": {
    "collapsed": true
   },
   "outputs": [],
   "source": [
    "import numpy as np\n",
    "import matplotlib as mpl\n",
    "import matplotlib.pyplot as plt\n",
    "\n",
    "%matplotlib inline"
   ]
  },
  {
   "cell_type": "code",
   "execution_count": 46,
   "metadata": {
    "collapsed": true
   },
   "outputs": [],
   "source": [
    "def im2col(img, ksize, stride=1):\n",
    "    \"\"\"\n",
    "    Parameters:\n",
    "        img: image of shape (h, w, c)\n",
    "        ksize: kernel size (kh, kw)\n",
    "        stride: ...\n",
    "    Return:\n",
    "        col: convert image to its column version\n",
    "    \"\"\"\n",
    "    img = img.transpose(2, 0, 1)\n",
    "    print(repr(img))\n",
    "    c, h, w = img.shape\n",
    "    kh, kw = ksize\n",
    "    out_h, out_w = int((h - kh) / stride) + 1, int((w - kw) / stride) + 1\n",
    "    col_h, col_w = out_h * out_w, kh * kw * c\n",
    "    col = np.empty((col_h, col_w))\n",
    "    for idx in range(col_h):\n",
    "        i, j = int(idx / out_w), idx % out_w\n",
    "        col[idx] = img[:, i : i + kh, j : j + kw].reshape(col_w)\n",
    "    return col"
   ]
  },
  {
   "cell_type": "code",
   "execution_count": 45,
   "metadata": {
    "collapsed": false
   },
   "outputs": [
    {
     "name": "stdout",
     "output_type": "stream",
     "text": [
      "array([[[ 0,  1],\n",
      "        [ 2,  3],\n",
      "        [ 4,  5]],\n",
      "\n",
      "       [[ 6,  7],\n",
      "        [ 8,  9],\n",
      "        [10, 11]],\n",
      "\n",
      "       [[12, 13],\n",
      "        [14, 15],\n",
      "        [16, 17]]])\n",
      "array([[[ 0,  2,  4],\n",
      "        [ 6,  8, 10],\n",
      "        [12, 14, 16]],\n",
      "\n",
      "       [[ 1,  3,  5],\n",
      "        [ 7,  9, 11],\n",
      "        [13, 15, 17]]])\n"
     ]
    },
    {
     "data": {
      "text/plain": [
       "array([[0., 2., 6., 8., 1., 3., 7., 9.]])"
      ]
     },
     "execution_count": 45,
     "metadata": {},
     "output_type": "execute_result"
    }
   ],
   "source": [
    "img = np.arange(18).reshape(1, 3, 3, 2)\n",
    "print(repr(img.squeeze()))\n",
    "ksize = (2, 2)\n",
    "im2col(img, ksize, stride=2)"
   ]
  },
  {
   "cell_type": "markdown",
   "metadata": {},
   "source": [
    "来自: [numpy实现卷积转换成矩阵乘法算法](https://zhuanlan.zhihu.com/p/63974249?utm_source=wechat_session&utm_medium=social&utm_oi=32625469161472), 感觉有点问题. "
   ]
  },
  {
   "cell_type": "code",
   "execution_count": 47,
   "metadata": {
    "collapsed": true
   },
   "outputs": [],
   "source": [
    "def im2col(img, ksize, stride=1):\n",
    "    N, H, W, C = img.shape\n",
    "    out_h = (H - ksize[0]) // stride + 1\n",
    "    out_w = (W - ksize[1]) // stride + 1\n",
    "    col = np.empty((N*out_h*out_w, ksize[0]*ksize[1]*C))\n",
    "    outsize = out_w*out_h\n",
    "    for y in range(out_h):\n",
    "        y_min = y * stride\n",
    "        y_max = y_min + ksize[0]\n",
    "        y_start = y * out_w\n",
    "        for x in range(out_w):\n",
    "            x_min = x * stride\n",
    "            x_max = x_min + ksize[1]\n",
    "            col[y_start+x::outsize, :] = img[:, y_min:y_max, x_min:x_max, :].reshape(N, -1)\n",
    "    return col"
   ]
  },
  {
   "cell_type": "code",
   "execution_count": 48,
   "metadata": {
    "collapsed": false
   },
   "outputs": [
    {
     "name": "stdout",
     "output_type": "stream",
     "text": [
      "array([[[ 0,  1],\n",
      "        [ 2,  3],\n",
      "        [ 4,  5]],\n",
      "\n",
      "       [[ 6,  7],\n",
      "        [ 8,  9],\n",
      "        [10, 11]],\n",
      "\n",
      "       [[12, 13],\n",
      "        [14, 15],\n",
      "        [16, 17]]])\n"
     ]
    },
    {
     "data": {
      "text/plain": [
       "array([[0., 1., 2., 3., 6., 7., 8., 9.]])"
      ]
     },
     "execution_count": 48,
     "metadata": {},
     "output_type": "execute_result"
    }
   ],
   "source": [
    "img = np.arange(18).reshape(1, 3, 3, 2)\n",
    "print(repr(img.squeeze()))\n",
    "ksize = (2, 2)\n",
    "im2col(img, ksize, stride=2)"
   ]
  },
  {
   "cell_type": "markdown",
   "metadata": {},
   "source": [
    "在上面 [numpy实现卷积转换成矩阵乘法算法](https://zhuanlan.zhihu.com/p/63974249?utm_source=wechat_session&utm_medium=social&utm_oi=32625469161472) 这篇博文中, 作者还给出了另一种思路: [卷积算法另一种高效实现，as_strided详解](https://zhuanlan.zhihu.com/p/64933417), 利用 `np.lib.stride_tricks.as_strided` 这个函数来实现 im2col, \n",
    "由于这个函数有点复杂, 这篇博文作者对这个函数进行了详细的介绍, 为了确定我理解了该函数的用法, 自行实现作者给出的一个例子."
   ]
  },
  {
   "cell_type": "code",
   "execution_count": 52,
   "metadata": {
    "collapsed": false
   },
   "outputs": [
    {
     "name": "stdout",
     "output_type": "stream",
     "text": [
      "[[10 11 12 13]\n",
      " [14 15 16 17]\n",
      " [18 19 20 21]\n",
      " [22 23 24 25]]\n"
     ]
    },
    {
     "data": {
      "text/plain": [
       "dtype('int64')"
      ]
     },
     "execution_count": 52,
     "metadata": {},
     "output_type": "execute_result"
    }
   ],
   "source": [
    "X = np.arange(10, 26).reshape(4, 4)\n",
    "print(X)\n",
    "X.dtype"
   ]
  },
  {
   "cell_type": "code",
   "execution_count": 54,
   "metadata": {
    "collapsed": false
   },
   "outputs": [
    {
     "data": {
      "text/plain": [
       "array([[[[10, 11, 12],\n",
       "         [14, 15, 16],\n",
       "         [18, 19, 20]],\n",
       "\n",
       "        [[11, 12, 13],\n",
       "         [15, 16, 17],\n",
       "         [19, 20, 21]]],\n",
       "\n",
       "\n",
       "       [[[14, 15, 16],\n",
       "         [18, 19, 20],\n",
       "         [22, 23, 24]],\n",
       "\n",
       "        [[15, 16, 17],\n",
       "         [19, 20, 21],\n",
       "         [23, 24, 25]]]])"
      ]
     },
     "execution_count": 54,
     "metadata": {},
     "output_type": "execute_result"
    }
   ],
   "source": [
    "Y = np.lib.stride_tricks.as_strided(X, shape=(2, 2, 3, 3), strides=(32, 8, 32, 8))\n",
    "Y"
   ]
  },
  {
   "cell_type": "markdown",
   "metadata": {},
   "source": [
    "上面例子中输入数据是 2D 的, 下面看输入数据是 3D 的"
   ]
  },
  {
   "cell_type": "code",
   "execution_count": 55,
   "metadata": {
    "collapsed": false
   },
   "outputs": [
    {
     "data": {
      "text/plain": [
       "array([[[ 0,  1,  2],\n",
       "        [ 3,  4,  5],\n",
       "        [ 6,  7,  8]],\n",
       "\n",
       "       [[ 9, 10, 11],\n",
       "        [12, 13, 14],\n",
       "        [15, 16, 17]]], dtype=int32)"
      ]
     },
     "execution_count": 55,
     "metadata": {},
     "output_type": "execute_result"
    }
   ],
   "source": [
    "X = np.arange(18, dtype=np.int32).reshape(1, 2, 3, 3)\n",
    "X"
   ]
  },
  {
   "cell_type": "code",
   "execution_count": 68,
   "metadata": {
    "collapsed": false
   },
   "outputs": [
    {
     "data": {
      "text/plain": [
       "array([[[[[[ 0,  1],\n",
       "           [ 3,  4]],\n",
       "\n",
       "          [[ 1,  2],\n",
       "           [ 4,  5]]],\n",
       "\n",
       "\n",
       "         [[[ 3,  4],\n",
       "           [ 6,  7]],\n",
       "\n",
       "          [[ 4,  5],\n",
       "           [ 7,  8]]]],\n",
       "\n",
       "\n",
       "\n",
       "        [[[[ 9, 10],\n",
       "           [12, 13]],\n",
       "\n",
       "          [[10, 11],\n",
       "           [13, 14]]],\n",
       "\n",
       "\n",
       "         [[[12, 13],\n",
       "           [15, 16]],\n",
       "\n",
       "          [[13, 14],\n",
       "           [16, 17]]]]]], dtype=int32)"
      ]
     },
     "execution_count": 68,
     "metadata": {},
     "output_type": "execute_result"
    }
   ],
   "source": [
    "np.lib.stride_tricks.as_strided(X, shape=(1, 2, 2, 2, 2, 2), strides=(72, 36, 12, 4, 12, 4))"
   ]
  },
  {
   "cell_type": "markdown",
   "metadata": {},
   "source": [
    "如果 X 的维度是 (H, W, C), 情况又如何呢?"
   ]
  },
  {
   "cell_type": "code",
   "execution_count": 92,
   "metadata": {
    "collapsed": false
   },
   "outputs": [
    {
     "data": {
      "text/plain": [
       "(72, 24, 8, 4)"
      ]
     },
     "execution_count": 92,
     "metadata": {},
     "output_type": "execute_result"
    }
   ],
   "source": [
    "def split_by_strides(X, kh, kw, s):\n",
    "    N, H, W, C = X.shape\n",
    "    oh = (H - kh) // s + 1\n",
    "    ow = (W - kw) // s + 1\n",
    "    shape = (N, oh, ow, kh, kw, C)\n",
    "    strides = (X.strides[0], X.strides[1]*s, X.strides[2]*s, *X.strides[1:])\n",
    "    A = np.lib.stride_tricks.as_strided(X, shape=shape, strides=strides)\n",
    "    return A\n",
    "\n",
    "# X = np.arange(18, dtype=np.int32).reshape(1, 2, 3, 3).transpose(0, 2, 3, 1)\n",
    "X = np.array([[[[ 0,  9],\n",
    "         [ 1, 10],\n",
    "         [ 2, 11]],\n",
    "\n",
    "        [[ 3, 12],\n",
    "         [ 4, 13],\n",
    "         [ 5, 14]],\n",
    "\n",
    "        [[ 6, 15],\n",
    "         [ 7, 16],\n",
    "         [ 8, 17]]]], dtype=np.int32)\n",
    "X"
   ]
  },
  {
   "cell_type": "code",
   "execution_count": 98,
   "metadata": {
    "collapsed": false
   },
   "outputs": [
    {
     "data": {
      "text/plain": [
       "(72, 24, 8, 24, 8, 4)"
      ]
     },
     "execution_count": 98,
     "metadata": {},
     "output_type": "execute_result"
    }
   ],
   "source": [
    "# np.lib.stride_tricks.as_strided(X, shape=(1, 2, 2, 2, 2, 2), strides=(72, 12, 4, 12, 4, 36))\n",
    "split_by_strides(X, 2, 2, 1).strides\n",
    "np.lib.stride_tricks.as_strided(X, shape=(1, 2, 2, 2, 2, 2), strides=(72, 24, 8, 24, 8, 4))"
   ]
  },
  {
   "cell_type": "code",
   "execution_count": 75,
   "metadata": {
    "collapsed": false
   },
   "outputs": [
    {
     "name": "stdout",
     "output_type": "stream",
     "text": [
      "(1, 3, 3, 2)\n",
      "(72, 12, 4, 36)\n",
      "(1, 2, 3, 3)\n",
      "(72, 36, 12, 4)\n"
     ]
    }
   ],
   "source": [
    "print(X.shape)\n",
    "print(X.strides)\n",
    "print(X.transpose(0, 3, 1, 2).shape)\n",
    "print(X.transpose(0, 3, 1, 2).strides)"
   ]
  },
  {
   "cell_type": "code",
   "execution_count": 76,
   "metadata": {
    "collapsed": false
   },
   "outputs": [
    {
     "data": {
      "text/plain": [
       "(96, 48, 24, 8)"
      ]
     },
     "execution_count": 76,
     "metadata": {},
     "output_type": "execute_result"
    }
   ],
   "source": [
    "Y = np.arange(12).reshape(1, 2, 2, 3)\n",
    "Y.strides"
   ]
  },
  {
   "cell_type": "code",
   "execution_count": 80,
   "metadata": {
    "collapsed": false
   },
   "outputs": [
    {
     "name": "stdout",
     "output_type": "stream",
     "text": [
      "(72, 8, 4, 24)\n"
     ]
    }
   ],
   "source": [
    "a = np.arange(18, dtype=np.int32).reshape(1, 3, 3, 2)\n",
    "a.strides\n",
    "print(a.transpose(0, 2, 3, 1).strides)"
   ]
  },
  {
   "cell_type": "code",
   "execution_count": 87,
   "metadata": {
    "collapsed": false
   },
   "outputs": [
    {
     "data": {
      "text/plain": [
       "100"
      ]
     },
     "execution_count": 87,
     "metadata": {},
     "output_type": "execute_result"
    }
   ],
   "source": [
    "X = np.arange(18, dtype=np.int32).reshape(2, 3, 3)\n",
    "X.strides\n",
    "\n",
    "nX = X.transpose(1, 2, 0)\n",
    "nX.strides\n",
    "\n",
    "nX[0, 0, 0] = 100\n",
    "\n",
    "X[0, 0, 0]"
   ]
  },
  {
   "cell_type": "code",
   "execution_count": 101,
   "metadata": {
    "collapsed": false
   },
   "outputs": [
    {
     "name": "stdout",
     "output_type": "stream",
     "text": [
      "(1, 1, 2, 1, 1, 2)\n"
     ]
    },
    {
     "data": {
      "text/plain": [
       "array([[[[100,   1],\n",
       "         [  2,   3]]]])"
      ]
     },
     "execution_count": 101,
     "metadata": {},
     "output_type": "execute_result"
    }
   ],
   "source": [
    "X = np.arange(4).reshape(1, 1, 2, 2)\n",
    "A = split_by_strides(X, 1, 1, 1)\n",
    "print(A.shape)\n",
    "A[0, 0, 0, 0, 0, 0] = 100\n",
    "X"
   ]
  },
  {
   "cell_type": "code",
   "execution_count": null,
   "metadata": {
    "collapsed": true
   },
   "outputs": [],
   "source": []
  }
 ],
 "metadata": {
  "anaconda-cloud": {},
  "kernelspec": {
   "display_name": "Python [conda env:anaconda3-4.2.0]",
   "language": "python",
   "name": "conda-env-anaconda3-4.2.0-py"
  },
  "language_info": {
   "codemirror_mode": {
    "name": "ipython",
    "version": 3
   },
   "file_extension": ".py",
   "mimetype": "text/x-python",
   "name": "python",
   "nbconvert_exporter": "python",
   "pygments_lexer": "ipython3",
   "version": "3.5.6"
  }
 },
 "nbformat": 4,
 "nbformat_minor": 1
}
