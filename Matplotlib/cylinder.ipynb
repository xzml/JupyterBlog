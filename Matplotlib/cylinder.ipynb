{
 "cells": [
  {
   "cell_type": "code",
   "execution_count": 4,
   "metadata": {
    "collapsed": true
   },
   "outputs": [],
   "source": [
    "from math import sin, cos\n",
    "import numpy as np\n",
    "from mpl_toolkits.mplot3d import Axes3D\n",
    "import matplotlib.pyplot as plt\n",
    "from matplotlib import cm\n",
    "import numpy\n",
    "\n",
    "%matplotlib inline"
   ]
  },
  {
   "cell_type": "code",
   "execution_count": 48,
   "metadata": {
    "collapsed": false
   },
   "outputs": [],
   "source": [
    "def plot_cylinder_element(x, z, dz, rx = 5, ry = 5, color = \"b\"):\n",
    "    \"\"\"\n",
    "    x: left, right\n",
    "    z: start height\n",
    "    dz: height of cylinder\n",
    "    rx, ry = radius of width (x) and depth (y)\n",
    "    color = color\n",
    "\n",
    "    Inspired by:\n",
    "http://matplotlib.1069221.n5.nabble.com/plot-surface-shading-and-clipping-error-td14031.html\n",
    "    \"\"\"\n",
    "\n",
    "    N = 50             # number of elements\n",
    "    # a lower stride will give more faces. A cylinder with 4 faces is a cube :)\n",
    "    # I think with N=100 and rstride=2, it will have 50 faces\n",
    "    # cstride is the height, rstride the circle\n",
    "    cstride_side = 1000 # only 1 element needed\n",
    "    rstride_side = 1    # many elements to make a nice cylinder shape\n",
    "    cstride_top = 10    \n",
    "    rstride_top = 10\n",
    "\n",
    "    # parameters of cylinder\n",
    "    phi = numpy.linspace(0, 2 * numpy.pi, N) \n",
    "    _r = numpy.ones(N) \n",
    "    _h = numpy.linspace(0, 1, N) \n",
    "\n",
    "    # cylinder\n",
    "    _x = rx * numpy.outer(numpy.cos(phi), _r) + x\n",
    "    _y = ry * numpy.outer(numpy.sin(phi), _r) \n",
    "    _z = dz * numpy.outer(numpy.ones(numpy.size(_r)), _h) + z\n",
    "    ax.plot_surface(_x, _y, _z, rstride = rstride_side, cstride = cstride_side, linewidth = 0, alpha = 1, color = color) \n",
    "\n",
    "    # to cover the gaps between the faces, plot the cylinder again at a slightly smaller radius\n",
    "    _x *= 0.99\n",
    "    _y *= 0.99\n",
    "    ax.plot_surface(_x, _y, _z, rstride = rstride_side + 1, cstride = cstride_side + 1, linewidth=0, alpha=1, color = color) \n",
    "\n",
    "    # top\n",
    "    _x = rx * numpy.outer(numpy.cos(phi), _h) + x\n",
    "    _y = ry * numpy.outer(numpy.sin(phi), _h) \n",
    "    _z = numpy.zeros([N,N]) + z + dz + 0.1\n",
    "    ax.plot_surface(_x, _y, _z,  rstride = rstride_top, cstride = cstride_top, linewidth = 0, alpha = 1, color = color) \n",
    "\n",
    "    #plot again with different stride to mask the gaps    \n",
    "    ax.plot_surface(_x, _y, _z, rstride = rstride_side + 1, cstride = cstride_side + 1, linewidth=0, alpha=1, color = color) "
   ]
  },
  {
   "cell_type": "code",
   "execution_count": 54,
   "metadata": {
    "collapsed": false
   },
   "outputs": [
    {
     "data": {
      "image/png": "[encoded data removed]",
      "text/plain": [
       "<Figure size 432x288 with 1 Axes>"
      ]
     },
     "metadata": {
      "needs_background": "light"
     },
     "output_type": "display_data"
    }
   ],
   "source": [
    "fig, ax = plt.subplots(subplot_kw={'projection': '3d'})\n",
    "ax.view_init(elev=10, azim=-80)\n",
    "x = 20 # center\n",
    "z = 0 # start height\n",
    "dz = 10 # height of cyclinder\n",
    "ax.set_xlim(-30, 80)\n",
    "ax.set_ylim(-10, 40)\n",
    "ax.yaxis.set_visible(False)\n",
    "ax.get_yaxis().set_ticks([])\n",
    "labels = ['position']\n",
    "plt.xticks([20], labels, rotation=35,\n",
    "           horizontalalignment='right', rotation_mode='anchor' )\n",
    "plot_cylinder_element(x, z, dz)"
   ]
  },
  {
   "cell_type": "code",
   "execution_count": null,
   "metadata": {
    "collapsed": true
   },
   "outputs": [],
   "source": []
  }
 ],
 "metadata": {
  "kernelspec": {
   "display_name": "Python [conda env:anaconda3-4.2.0]",
   "language": "python",
   "name": "conda-env-anaconda3-4.2.0-py"
  },
  "language_info": {
   "codemirror_mode": {
    "name": "ipython",
    "version": 3
   },
   "file_extension": ".py",
   "mimetype": "text/x-python",
   "name": "python",
   "nbconvert_exporter": "python",
   "pygments_lexer": "ipython3",
   "version": "3.5.6"
  }
 },
 "nbformat": 4,
 "nbformat_minor": 1
}
