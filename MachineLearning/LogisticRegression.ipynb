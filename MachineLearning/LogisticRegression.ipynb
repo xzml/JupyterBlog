{
 "cells": [
  {
   "cell_type": "markdown",
   "metadata": {},
   "source": [
    "# 动手实现逻辑回归 Logistic Regression\n",
    "\n",
    "2019 年 5 月 15 日"
   ]
  },
  {
   "cell_type": "code",
   "execution_count": 1,
   "metadata": {
    "collapsed": true
   },
   "outputs": [],
   "source": [
    "import numpy as np\n",
    "import matplotlib.pyplot as plt\n",
    "from sklearn.datasets import load_iris\n",
    "from pprint import pprint as pp\n",
    "from collections import Counter\n",
    "\n",
    "%matplotlib inline"
   ]
  },
  {
   "cell_type": "code",
   "execution_count": 2,
   "metadata": {
    "collapsed": true
   },
   "outputs": [],
   "source": [
    "iris = load_iris()\n",
    "X = iris.data[:100, :2]\n",
    "y = iris.target[:100] # y \\in {0, 1}\n",
    "feature_names = iris.feature_names[2:]"
   ]
  },
  {
   "cell_type": "markdown",
   "metadata": {},
   "source": [
    "Sigmoid 函数定义为:\n",
    "\n",
    "$$\n",
    "\\operatorname{sigmoid}(x) = \\frac{1}{1 + \\exp{(-x)}}\n",
    "$$\n",
    "\n",
    "另外, 注意一点, 所谓上溢和下溢是对 Softmax 而言的."
   ]
  },
  {
   "cell_type": "code",
   "execution_count": 3,
   "metadata": {
    "collapsed": false
   },
   "outputs": [
    {
     "data": {
      "text/plain": [
       "[<matplotlib.lines.Line2D at 0x10d745860>]"
      ]
     },
     "execution_count": 3,
     "metadata": {},
     "output_type": "execute_result"
    },
    {
     "data": {
      "image/png": "[encoded data removed]",
      "text/plain": [
       "<Figure size 432x288 with 1 Axes>"
      ]
     },
     "metadata": {
      "needs_background": "light"
     },
     "output_type": "display_data"
    }
   ],
   "source": [
    "def sigmoid(x):\n",
    "    x = np.array(x)\n",
    "    return 1. / (1. + np.exp(-x))\n",
    "\n",
    "x = np.linspace(-5, 5, 100)\n",
    "fig, ax = plt.subplots()\n",
    "ax.plot(x, sigmoid(x))"
   ]
  },
  {
   "cell_type": "markdown",
   "metadata": {},
   "source": [
    "更为详细的内容可以参考 \"统计学习方法\"(李航) 第六章.\n",
    "\n",
    "下面重点来了, 对于逻辑回归, 它的目标函数是极大似然函数 $L(w, b)$. 对于给定的数据集 $\\mathcal{T}=\\{(x_i, y_i\\}_{i=1}^{N}$, 其中 $x_i\\in\\mathbb{R}^n, y_i\\in\\{0, 1\\}$, 可以使用极大似然估计法来估计模型参数, 从而得到 Logistic Regression 模型.\n",
    "\n",
    "对于二分类, 设 $P(Y = 1|x) = \\pi(x)$, 那么 $P(Y = 0 | x) = 1 - \\pi(x)$, 则似然函数定义为:\n",
    "\n",
    "$$\n",
    "\\prod_{i=1}^{N}[\\pi(x_i)]^{y_i}[1 - \\pi(x_i)]^{1 - y_i}\n",
    "$$\n",
    "\n",
    "对数似然函数为:\n",
    "\n",
    "$$\n",
    "\\begin{aligned} L(w, b) &=\\sum_{i=1}^{N}\\left[y_{i} \\log \\pi\\left(x_{i}\\right)+\\left(1-y_{i}\\right) \\log \\left(1-\\pi\\left(x_{i}\\right)\\right)\\right] \\\\ &=\\sum_{i=1}^{N}\\left[y_{i} \\log \\frac{\\pi\\left(x_{i}\\right)}{1-\\pi\\left(x_{i}\\right)}+\\log \\left(1-\\pi\\left(x_{i}\\right)\\right)\\right] \\\\ &=\\sum_{i=1}^{N}\\left[y_{i}\\left(w \\cdot x_{i} + b\\right)-\\log \\left(1+\\exp \\left(w \\cdot x_{i} + b\\right)\\right)\\right]\\end{aligned}\n",
    "$$\n",
    "\n",
    "对 $L(w, b)$ 求极大值, 就可以得到 $w, b$ 的估计值. 这样, Logistic Regression 就变成了以对数似然函数为目标函数的最优化问题. 无约束的最优化问题可以采用随机梯度下降法和拟牛顿法求解.\n",
    "\n",
    "假设得到 $w, b$ 的似然估计为 $\\hat{w}, \\hat{b}$, 那么 Logistic Regression 模型为:\n",
    "\n",
    "$$\n",
    "\\begin{aligned}\n",
    "P(Y=1 | x) &=\\frac{\\exp (\\hat{w} \\cdot x + \\hat{b})}{1+\\exp (\\hat{w} \\cdot x + \\hat{b})} \\\\ \n",
    "P(Y=0 | x) &=\\frac{1}{1+\\exp (\\hat{w} \\cdot x + \\hat{b})} \n",
    "\\end{aligned}\n",
    "$$\n",
    "\n",
    "为了使用梯度下降法求解该优化模型, 需要求出 $L(w, b)$ 针对 $w, b$ 的导数:\n",
    "\n",
    "$$\n",
    "\\begin{aligned}\n",
    "\t\\frac{\\partial L(w, b)}{\\partial w} &= \\sum_{i = 1}^{N} y_i x_i - \\frac{\\exp{(w\\cdot x_i + b)}}{1 + \\exp{(w\\cdot x_i + b)}}  x_i \\\\\n",
    "\t&= \\sum_{i = 1}^{N} \\left(y_i - \\operatorname{sigmoid}(w\\cdot x_i + b)\\right) x_i\n",
    "\t\\\\\n",
    "\t\\frac{\\partial L(w, b)}{\\partial b} &= \\sum_{i = 1}^{N} \\left(y_i - \\operatorname{sigmoid}(w\\cdot x_i + b)\\right)\n",
    "\\end{aligned}\n",
    "$$\n",
    "\n",
    "然而, 需要注意的是, 此时的优化问题是:\n",
    "\n",
    "$$\n",
    "\\max_{w, b} L(w, b)\n",
    "$$\n",
    "\n",
    "因此, 参数 $w, b$ 的更新方式应该为:\n",
    "\n",
    "$$\n",
    "\\begin{aligned}\n",
    "\tw &\\leftarrow w + \\alpha\\frac{\\partial L(w, b)}{\\partial w} \\\\\n",
    "\tb &\\leftarrow b + \\alpha\\frac{\\partial L(w, b)}{\\partial b}\n",
    "\\end{aligned}\n",
    "$$\n",
    "\n",
    "即原本是减号的, 现在要改成加号, 梯度的方向是函数上升最快的方法."
   ]
  },
  {
   "cell_type": "code",
   "execution_count": 4,
   "metadata": {
    "collapsed": false
   },
   "outputs": [
    {
     "name": "stdout",
     "output_type": "stream",
     "text": [
      "initial: w: [-1.0856306   0.99734545], b: [0.2829785], L: -1.8004447189488453\n",
      "final: w: [ 0.5450796  -0.99305687], b: [0.1557987], L: -0.4554917754637018\n"
     ]
    }
   ],
   "source": [
    "## 目标函数, 极大似然\n",
    "## 注意这里求取了平均值而不是直接 sum\n",
    "def L(w, b, X, y):\n",
    "    dot = np.dot(X, w) + b\n",
    "    return np.mean(y * dot - np.log(1 + np.exp(dot)), axis=0)\n",
    "\n",
    "## w, b 的导数\n",
    "def dL(w, b, X, y):\n",
    "    dot = np.dot(X, w) + b\n",
    "    distance = y - sigmoid(dot)\n",
    "    distance = distance.reshape(-1, 1)\n",
    "    return np.mean(distance * X, axis=0), np.mean(distance, axis=0)\n",
    "\n",
    "## 随机梯度下降? (上升)\n",
    "def sgd(w, b, X, y, epoch, lr):\n",
    "    for i in range(epoch):\n",
    "        dw, db = dL(w, b, X, y)\n",
    "        w += lr * dw\n",
    "        b += lr * db\n",
    "    return w, b\n",
    "\n",
    "## 测试代码, 对于预测值, 当概率大于 0.5 时, label 属于 True\n",
    "def predict(w, b, X_test):\n",
    "    return sigmoid(np.dot(X_test, w) + b) >= 0.5\n",
    "\n",
    "\n",
    "## 训练代码\n",
    "np.random.seed(123)\n",
    "n = X.shape[1]\n",
    "w = np.random.randn(n)\n",
    "b = np.random.randn(1)\n",
    "print('initial: w: {}, b: {}, L: {}'.format(w, b, L(w, b, X, y)))\n",
    "w, b = sgd(w, b, X, y, 10000, 0.001)\n",
    "print('final: w: {}, b: {}, L: {}'.format(w, b, L(w, b, X, y)))"
   ]
  },
  {
   "cell_type": "code",
   "execution_count": 5,
   "metadata": {
    "collapsed": true
   },
   "outputs": [],
   "source": [
    "## 画出分类面\n",
    "def plot_surface(X, y, w, b):\n",
    "    x_min, x_max = X[:, 0].min() - 1, X[:, 0].max() + 1\n",
    "    y_min, y_max = X[:, 1].min() - 1, X[:, 1].max() + 1\n",
    "\n",
    "    xx, yy = np.meshgrid(np.arange(x_min, x_max, 0.01), np.arange(y_min, y_max, 0.01))\n",
    "    X_test = np.c_[xx.ravel(), yy.ravel()]\n",
    "    Z = predict(w, b, X_test)\n",
    "    Z = Z.reshape(xx.shape)\n",
    "\n",
    "    fig, ax = plt.subplots()\n",
    "    counter = Counter(y)\n",
    "    ax.set_xlim(x_min, x_max)\n",
    "    ax.set_ylim(y_min, y_max)\n",
    "    ax.set_xlabel(feature_names[0])\n",
    "    ax.set_ylabel(feature_names[1])\n",
    "    ax.contourf(xx, yy, Z, cmap=plt.cm.RdYlBu)\n",
    "\n",
    "    ## 画出分割线\n",
    "    #     i = np.linspace(x_min, x_max, 100)\n",
    "    #     o = (w[0] * i + b) / -w[1]\n",
    "    #     ax.plot(i, o)\n",
    "    \n",
    "    for label in counter.keys():\n",
    "        ax.scatter(X[y==label, 0], X[y==label, 1])"
   ]
  },
  {
   "cell_type": "code",
   "execution_count": 6,
   "metadata": {
    "collapsed": false
   },
   "outputs": [
    {
     "data": {
      "image/png": "[encoded data removed]",
      "text/plain": [
       "<Figure size 432x288 with 1 Axes>"
      ]
     },
     "metadata": {
      "needs_background": "light"
     },
     "output_type": "display_data"
    }
   ],
   "source": [
    "plot_surface(X, y, w, b)"
   ]
  },
  {
   "cell_type": "code",
   "execution_count": null,
   "metadata": {
    "collapsed": true
   },
   "outputs": [],
   "source": []
  }
 ],
 "metadata": {
  "anaconda-cloud": {},
  "kernelspec": {
   "display_name": "Python [conda env:anaconda3-4.2.0]",
   "language": "python",
   "name": "conda-env-anaconda3-4.2.0-py"
  },
  "language_info": {
   "codemirror_mode": {
    "name": "ipython",
    "version": 3
   },
   "file_extension": ".py",
   "mimetype": "text/x-python",
   "name": "python",
   "nbconvert_exporter": "python",
   "pygments_lexer": "ipython3",
   "version": "3.5.6"
  }
 },
 "nbformat": 4,
 "nbformat_minor": 1
}
