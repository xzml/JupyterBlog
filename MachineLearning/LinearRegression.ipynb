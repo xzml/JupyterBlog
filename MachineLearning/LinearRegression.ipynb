{
 "cells": [
  {
   "cell_type": "code",
   "execution_count": 1,
   "metadata": {
    "collapsed": true
   },
   "outputs": [],
   "source": [
    "import numpy as np\n",
    "import matplotlib.pyplot as plt\n",
    "\n",
    "%matplotlib inline"
   ]
  },
  {
   "cell_type": "code",
   "execution_count": 4,
   "metadata": {
    "collapsed": false
   },
   "outputs": [
    {
     "data": {
      "text/plain": [
       "<matplotlib.collections.PathCollection at 0x1126f8be0>"
      ]
     },
     "execution_count": 4,
     "metadata": {},
     "output_type": "execute_result"
    },
    {
     "data": {
      "image/png": "[encoded data removed]",
      "text/plain": [
       "<Figure size 432x288 with 1 Axes>"
      ]
     },
     "metadata": {
      "needs_background": "light"
     },
     "output_type": "display_data"
    }
   ],
   "source": [
    "x = np.linspace(0, 10, 40)\n",
    "y = 2 * x + np.random.normal(loc=0.0, scale=1.0, size=x.shape)\n",
    "plt.scatter(x, y)"
   ]
  },
  {
   "cell_type": "code",
   "execution_count": 7,
   "metadata": {
    "collapsed": false
   },
   "outputs": [
    {
     "name": "stdout",
     "output_type": "stream",
     "text": [
      "init value: w: -0.1377898444206305, b: -0.704131352058321, loss: 85.73113606777557\n",
      "final value: w: 1.9975697647585027, b: -0.4015253712705954, loss: 0.5321591768657171\n"
     ]
    }
   ],
   "source": [
    "# 输入应为 numpy 数组\n",
    "def f(x, w, b):\n",
    "    return w * x + b\n",
    "\n",
    "def loss(x, y, w, b):\n",
    "    return 1/2. * np.mean((f(x, w, b) - y) ** 2)\n",
    "\n",
    "def dw(x, y, w, b):\n",
    "    return np.mean((f(x, w, b) - y) * x)\n",
    "\n",
    "def db(x, y, w, b):\n",
    "    return np.mean((f(x, w, b) - y))\n",
    "\n",
    "w = np.random.randn(1)[0]\n",
    "b = np.random.randn(1)[0]\n",
    "n_epochs = 100\n",
    "lr = 0.001\n",
    "\n",
    "def train(x, y, w, b, n_epochs, lr):\n",
    "    for i in range(n_epochs):\n",
    "        w -= lr * dw(x, y, w, b)\n",
    "        b -= lr * db(x, y, w, b)\n",
    "    return w, b\n",
    "\n",
    "print('init value: w: {}, b: {}, loss: {}'.format(w, b, loss(x, y, w, b)))\n",
    "w, b = train(x, y, w, b, n_epochs, lr)\n",
    "print('final value: w: {}, b: {}, loss: {}'.format(w, b, loss(x, y, w, b)))"
   ]
  },
  {
   "cell_type": "code",
   "execution_count": 8,
   "metadata": {
    "collapsed": false
   },
   "outputs": [
    {
     "data": {
      "image/png": "[encoded data removed]",
      "text/plain": [
       "<Figure size 432x288 with 1 Axes>"
      ]
     },
     "metadata": {
      "needs_background": "light"
     },
     "output_type": "display_data"
    }
   ],
   "source": [
    "def predict(x, y, w, b):\n",
    "    return (w * x + b) > y\n",
    "\n",
    "def plot_surface(x, y, w, b):\n",
    "    x_min, x_max = x.min() - 1, x.max() + 1\n",
    "    y_min, y_max = y.min() - 1, y.max() + 1\n",
    "    \n",
    "    xx, yy = np.meshgrid(np.arange(x_min, x_max, 0.01), np.arange(y_min, y_max, 0.01))\n",
    "    Z = predict(xx.ravel(), yy.ravel(), w, b)\n",
    "    Z = Z.reshape(xx.shape)\n",
    "    plt.contourf(xx, yy, Z, cmap=plt.cm.RdYlBu)\n",
    "    plt.scatter(x, y)\n",
    "    \n",
    "plot_surface(x, y, w, b)"
   ]
  },
  {
   "cell_type": "markdown",
   "metadata": {},
   "source": [
    "## 寻找函数的极值点"
   ]
  },
  {
   "cell_type": "code",
   "execution_count": 18,
   "metadata": {
    "collapsed": false
   },
   "outputs": [
    {
     "data": {
      "text/plain": [
       "<matplotlib.collections.PathCollection at 0x11afede10>"
      ]
     },
     "execution_count": 18,
     "metadata": {},
     "output_type": "execute_result"
    },
    {
     "data": {
      "image/png": "[encoded data removed]",
      "text/plain": [
       "<Figure size 432x288 with 1 Axes>"
      ]
     },
     "metadata": {
      "needs_background": "light"
     },
     "output_type": "display_data"
    }
   ],
   "source": [
    "def f(x):\n",
    "    return x**2 * np.sin(x)\n",
    "\n",
    "\n",
    "def df(x):\n",
    "    return 2 * x * np.sin(x) + x**2 * np.cos(x)\n",
    "\n",
    "x = np.linspace(0, 7, 2000)\n",
    "y = f(x)\n",
    "\n",
    "points = []\n",
    "\n",
    "def find_minimum(x, eps, lr, points):\n",
    "    x0 = x\n",
    "    points.append(x)\n",
    "    while True:\n",
    "        x = x0 - lr * df(x0)\n",
    "        if np.abs(f(x) - f(x0)) < eps:\n",
    "            break\n",
    "        points.append(x)\n",
    "        x0 = x\n",
    "\n",
    "x0 = 3\n",
    "eps = 1e-10\n",
    "lr = 0.01\n",
    "plt.plot(x, y)\n",
    "# plt.scatter(x0, f(x0))\n",
    "find_minimum(x0, eps, lr, points)\n",
    "plt.scatter(np.array(points), f(np.array(points)))"
   ]
  },
  {
   "cell_type": "markdown",
   "metadata": {},
   "source": []
  }
 ],
 "metadata": {
  "anaconda-cloud": {},
  "kernelspec": {
   "display_name": "Python [conda env:anaconda3-4.2.0]",
   "language": "python",
   "name": "conda-env-anaconda3-4.2.0-py"
  },
  "language_info": {
   "codemirror_mode": {
    "name": "ipython",
    "version": 3
   },
   "file_extension": ".py",
   "mimetype": "text/x-python",
   "name": "python",
   "nbconvert_exporter": "python",
   "pygments_lexer": "ipython3",
   "version": "3.5.6"
  }
 },
 "nbformat": 4,
 "nbformat_minor": 1
}
