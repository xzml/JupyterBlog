{
 "cells": [
  {
   "cell_type": "code",
   "execution_count": 1,
   "metadata": {
    "collapsed": true
   },
   "outputs": [],
   "source": [
    "import numpy as np\n",
    "import torch\n",
    "import torch.nn as nn"
   ]
  },
  {
   "cell_type": "code",
   "execution_count": 9,
   "metadata": {
    "collapsed": false
   },
   "outputs": [
    {
     "name": "stdout",
     "output_type": "stream",
     "text": [
      "input: \n",
      "tensor([[[[0, 1, 2],\n",
      "          [3, 4, 5],\n",
      "          [6, 7, 8]]]])\n",
      "kernel: \n",
      "tensor([[[[0, 1],\n",
      "          [2, 3]]]])\n",
      "output: \n",
      "tensor([[[[19., 25.],\n",
      "          [37., 43.]]]])\n"
     ]
    }
   ],
   "source": [
    "N = 1\n",
    "C = 1\n",
    "H = W = 3\n",
    "oC = 1\n",
    "kh = kw = 2\n",
    "input = torch.arange(N * C * H * W).view(N, C, H, W)\n",
    "kernel = torch.arange(oC * C * kh * kw).view(oC, C, kh, kw)\n",
    "\n",
    "oh, ow = (H - kh + 1), (W - kw + 1)\n",
    "output = torch.zeros(N, oC, oh, ow)\n",
    "for n in range(N):\n",
    "    for oc in range(oC):\n",
    "        for i in range(oh):\n",
    "            for j in range(ow):\n",
    "                output[n, oc, i, j] = torch.sum(kernel[oc] * input[n, :, i : (i + kh), j : (j + kw)])\n",
    "                \n",
    "print('input: \\n{}'.format(input))\n",
    "print('kernel: \\n{}'.format(kernel))\n",
    "print('output: \\n{}'.format(output))"
   ]
  },
  {
   "cell_type": "code",
   "execution_count": 14,
   "metadata": {
    "collapsed": false
   },
   "outputs": [
    {
     "name": "stdout",
     "output_type": "stream",
     "text": [
      "torch output: \n",
      "tensor([[[[19., 25.],\n",
      "          [37., 43.]]]], grad_fn=<ThnnConv2DBackward>)\n"
     ]
    }
   ],
   "source": [
    "conv = nn.Conv2d(C, oC, (kh, kw), bias=False)\n",
    "conv.weight.data.copy_(kernel)\n",
    "output = conv(input.float())\n",
    "print('torch output: \\n{}'.format(output))"
   ]
  },
  {
   "cell_type": "code",
   "execution_count": null,
   "metadata": {
    "collapsed": true
   },
   "outputs": [],
   "source": []
  }
 ],
 "metadata": {
  "kernelspec": {
   "display_name": "Python [conda env:anaconda3-4.2.0]",
   "language": "python",
   "name": "conda-env-anaconda3-4.2.0-py"
  },
  "language_info": {
   "codemirror_mode": {
    "name": "ipython",
    "version": 3
   },
   "file_extension": ".py",
   "mimetype": "text/x-python",
   "name": "python",
   "nbconvert_exporter": "python",
   "pygments_lexer": "ipython3",
   "version": "3.5.6"
  }
 },
 "nbformat": 4,
 "nbformat_minor": 1
}
